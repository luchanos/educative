{
 "cells": [
  {
   "cell_type": "code",
   "id": "initial_id",
   "metadata": {
    "collapsed": true,
    "ExecuteTime": {
     "end_time": "2025-07-11T07:37:26.902650Z",
     "start_time": "2025-07-11T07:37:26.899891Z"
    }
   },
   "source": [
    "# A simple metaclass that just prints what it's creating\n",
    "class MyMeta(type):\n",
    "    def __new__(mcs, name, bases, dct):\n",
    "        print(\"---------------------------------\")\n",
    "        print(f\"Creating class: {name}\")\n",
    "        print(f\"Parent classes: {bases}\")\n",
    "        print(f\"Attributes/methods: {dct}\")\n",
    "\n",
    "        # We must call the parent's __new__ to actually create the class\n",
    "        new_class = super().__new__(mcs, name, bases, dct)\n",
    "        print(\"---------------------------------\")\n",
    "        return new_class"
   ],
   "outputs": [],
   "execution_count": 6
  },
  {
   "metadata": {
    "ExecuteTime": {
     "end_time": "2025-07-11T07:38:04.940941Z",
     "start_time": "2025-07-11T07:38:04.938594Z"
    }
   },
   "cell_type": "code",
   "source": [
    "# Now, let's use our metaclass\n",
    "class MyClass(metaclass=MyMeta):\n",
    "    x = 50\n",
    "\n",
    "    def greet(self):\n",
    "        print(\"Hello there!\")"
   ],
   "id": "79fe52535be52230",
   "outputs": [
    {
     "name": "stdout",
     "output_type": "stream",
     "text": [
      "---------------------------------\n",
      "Creating class: MyClass\n",
      "Parent classes: ()\n",
      "Attributes/methods: {'__module__': '__main__', '__qualname__': 'MyClass', 'x': 50, 'greet': <function MyClass.greet at 0x110bcd620>}\n",
      "---------------------------------\n"
     ]
    }
   ],
   "execution_count": 7
  },
  {
   "metadata": {
    "ExecuteTime": {
     "end_time": "2025-07-11T07:38:47.313436Z",
     "start_time": "2025-07-11T07:38:47.311238Z"
    }
   },
   "cell_type": "code",
   "source": [
    "print(\"\\n...Python script continues...\")\n",
    "my_instance = MyClass() # This line runs AFTER the metaclass has done its job"
   ],
   "id": "49f318d09325459e",
   "outputs": [
    {
     "name": "stdout",
     "output_type": "stream",
     "text": [
      "\n",
      "...Python script continues...\n"
     ]
    }
   ],
   "execution_count": 8
  }
 ],
 "metadata": {
  "kernelspec": {
   "display_name": "Python 3",
   "language": "python",
   "name": "python3"
  },
  "language_info": {
   "codemirror_mode": {
    "name": "ipython",
    "version": 2
   },
   "file_extension": ".py",
   "mimetype": "text/x-python",
   "name": "python",
   "nbconvert_exporter": "python",
   "pygments_lexer": "ipython2",
   "version": "2.7.6"
  }
 },
 "nbformat": 4,
 "nbformat_minor": 5
}
