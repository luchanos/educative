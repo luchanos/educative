{
 "cells": [
  {
   "cell_type": "markdown",
   "id": "32e78c94",
   "metadata": {},
   "source": [
    "# PostgreSQL Transaction Isolation Levels in Python\n",
    "This notebook demonstrates the 4 standard isolation levels in PostgreSQL:\n",
    "- READ UNCOMMITTED (emulated as READ COMMITTED in PostgreSQL)\n",
    "- READ COMMITTED\n",
    "- REPEATABLE READ\n",
    "- SERIALIZABLE"
   ]
  },
  {
   "cell_type": "code",
   "execution_count": 1,
   "id": "b0363e97",
   "metadata": {},
   "outputs": [],
   "source": [
    "import asyncio\n",
    "from enum import Enum\n",
    "from typing import Literal\n",
    "\n",
    "import nest_asyncio\n",
    "from sqlalchemy import delete, select, text, update\n",
    "\n",
    "from db.postgre import async_engine, async_session\n",
    "from models.users import Base, User\n",
    "\n",
    "nest_asyncio.apply()"
   ]
  },
  {
   "cell_type": "code",
   "execution_count": 2,
   "id": "c2ade9e4",
   "metadata": {},
   "outputs": [],
   "source": [
    "class IsolationLevels(str, Enum):\n",
    "    READ_UNCOMMITTED = \"READ UNCOMMITTED\"\n",
    "    READ_COMMITTED = \"READ COMMITTED\"\n",
    "    REPEATABLE_READ = \"REPEATABLE READ\"\n",
    "    SERIALIZABLE = \"SERIALIZABLE\""
   ]
  },
  {
   "cell_type": "markdown",
   "id": "e6576d31",
   "metadata": {},
   "source": [
    "## 1. READ UNCOMMITTED\n",
    "`READ UNCOMMITTED` is the lowest isolation level in the SQL standard. It allows a transaction to read data that has been modified by other transactions but not yet committed.\n",
    "\n",
    "This leads to `dirty reads` — transactions can see intermediate, uncommitted changes from others.\n",
    "\n",
    "🔒 PostgreSQL does not allow dirty reads, even if you set `READ UNCOMMITTED` — it behaves like `READ COMMITTED`."
   ]
  },
  {
   "cell_type": "markdown",
   "id": "e2b75fbf",
   "metadata": {},
   "source": [
    "## 2. READ COMMITTED (default in PostgreSQL)\n",
    "\n",
    "Each query sees only committed data as of the start of the query. It allows:\n",
    "- `non-repeatable reads` — occurs when a transaction reads **the same row** twice and gets different values;\n",
    "- `phantom reads` — occurs when a transaction executes the same query (returning **multiple rows** based on a condition) twice and gets a different **set of rows**.\n",
    "\n",
    "### Example\n",
    "\n",
    "Session 1:\n",
    "```sql\n",
    "BEGIN;\n",
    "SELECT surname FROM users WHERE unique_code = 'abc123';\n",
    "-- Result: 'Smith'\n",
    "```\n",
    "\n",
    "Session 2:\n",
    "```sql\n",
    "BEGIN;\n",
    "UPDATE users SET surname = 'Doe' WHERE unique_code = 'abc123';\n",
    "COMMIT;\n",
    "```\n",
    "\n",
    "Back to Session 1:\n",
    "```sql\n",
    "SELECT surname FROM users WHERE unique_code = 'abc123';\n",
    "-- Result: 'Doe'\n",
    "COMMIT;\n",
    "```\n"
   ]
  },
  {
   "cell_type": "code",
   "execution_count": 3,
   "id": "5c0db6f3",
   "metadata": {},
   "outputs": [],
   "source": [
    "async def setup() -> None:\n",
    "    \"\"\"Setup the database and create a test user.\"\"\"\n",
    "    async with async_engine.begin() as conn:\n",
    "        await conn.run_sync(Base.metadata.create_all)\n",
    "\n",
    "    async with async_session() as session:\n",
    "        await session.begin()\n",
    "        await session.execute(delete(User))\n",
    "        session.add(User(name=\"Alice\", surname=\"Smith\", unique_code=\"abc123\"))\n",
    "        await session.commit()"
   ]
  },
  {
   "cell_type": "code",
   "execution_count": 4,
   "id": "c76052df",
   "metadata": {},
   "outputs": [
    {
     "name": "stdout",
     "output_type": "stream",
     "text": [
      "Session 1: Alice surname is Smith\n",
      "Session 2: Alice surname was updated to 'Doe'...\n",
      "Session 2: Session committed...\n",
      "Session 1: Alice surname is Doe\n",
      "Session 1: Session committed...\n"
     ]
    }
   ],
   "source": [
    "async def session1(\n",
    "    isolation_level: Literal[IsolationLevels.READ_UNCOMMITTED,\n",
    "                             IsolationLevels.READ_COMMITTED,\n",
    "                             IsolationLevels.REPEATABLE_READ,\n",
    "                             IsolationLevels.SERIALIZABLE,\n",
    "                            ],\n",
    ") -> None:\n",
    "    \"\"\"Session 1: Reads the surname of Alice.\n",
    "    \n",
    "    Args:\n",
    "        isolation_level: The isolation level to use for the session.\n",
    "    \"\"\"\n",
    "    session_name = \"Session 1\"\n",
    "\n",
    "    async with async_session() as session:\n",
    "        await session.begin()\n",
    "        await session.connection(execution_options={\"isolation_level\": isolation_level})\n",
    "        result = await session.execute(\n",
    "            select(User.surname).where(User.unique_code == \"abc123\")\n",
    "        )\n",
    "        print(f\"{session_name}: Alice surname is {result.scalar_one()}\")\n",
    "        \n",
    "        await asyncio.sleep(10)\n",
    "        result = await session.execute(\n",
    "            select(User.surname).where(User.unique_code == \"abc123\")\n",
    "        )\n",
    "        print(f\"{session_name}: Alice surname is {result.scalar_one()}\")\n",
    "        await session.commit()\n",
    "        print(f\"{session_name}: Session committed...\")\n",
    "\n",
    "\n",
    "async def session2(\n",
    "    isolation_level: Literal[IsolationLevels.READ_UNCOMMITTED,\n",
    "                             IsolationLevels.READ_COMMITTED,\n",
    "                             IsolationLevels.REPEATABLE_READ,\n",
    "                             IsolationLevels.SERIALIZABLE,\n",
    "                            ],\n",
    ") -> None:\n",
    "    \"\"\"Session 2: Updates the surname of Alice.\"\"\"\n",
    "    session_name = \"Session 2\"\n",
    "    new_surname = \"Doe\"\n",
    "\n",
    "    async with async_session() as session:\n",
    "        await session.begin()\n",
    "        await session.connection(execution_options={\"isolation_level\": isolation_level})\n",
    "        await asyncio.sleep(5)\n",
    "        await session.execute(\n",
    "            update(User).where(User.unique_code == \"abc123\").values(surname=new_surname)\n",
    "        )\n",
    "        print(f\"{session_name}: Alice surname was updated to '{new_surname}'...\")\n",
    "        await session.commit()\n",
    "        print(f\"{session_name}: Session committed...\")\n",
    "\n",
    "\n",
    "await setup()\n",
    "_ = await asyncio.gather(\n",
    "    session1(isolation_level=IsolationLevels.READ_COMMITTED),\n",
    "    session2(isolation_level=IsolationLevels.READ_COMMITTED),\n",
    "    )"
   ]
  },
  {
   "cell_type": "markdown",
   "id": "3f79d31e",
   "metadata": {},
   "source": [
    "## 3. REPEATABLE READ\n",
    "\n",
    "All reads within the transaction see the same snapshot (taken at `BEGIN`).\n",
    "\n",
    "Prevents `dirty reads` and `non-repeatable reads`, but theoretically allows `phantom rows`. \n",
    "\n",
    "PostgreSQL implements `REPEATABLE READ` as `snapshot isolation`, which means:\n",
    "- Each transaction receives a snapshot of the database as it existed at the start of the transaction.\n",
    "- As a result, all repeated `SELECT` queries within that transaction see the same set of rows, even if other transactions insert, update, or delete data afterward.\n",
    "\n",
    "🔒 Therefore, `phantom reads` are not possible under `REPEATABLE READ` in PostgreSQL.\n",
    "\n",
    "### Example\n",
    "\n",
    "Session 1:\n",
    "```sql\n",
    "BEGIN;\n",
    "SELECT surname FROM users WHERE unique_code = 'abc123';\n",
    "-- Result: 'Smith'\n",
    "```\n",
    "\n",
    "Session 2:\n",
    "```sql\n",
    "BEGIN;\n",
    "UPDATE users SET surname = 'Doe' WHERE unique_code = 'abc123';\n",
    "COMMIT;\n",
    "```\n",
    "\n",
    "Back to Session 1:\n",
    "```sql\n",
    "SELECT surname FROM users WHERE unique_code = 'abc123';\n",
    "-- Result: still 'Smith'\n",
    "COMMIT;\n",
    "```"
   ]
  },
  {
   "cell_type": "code",
   "execution_count": 5,
   "id": "6eccab73",
   "metadata": {},
   "outputs": [
    {
     "name": "stdout",
     "output_type": "stream",
     "text": [
      "Session 1: Alice surname is Smith\n",
      "Session 2: Alice surname was updated to 'Doe'...\n",
      "Session 2: Session committed...\n",
      "Session 1: Alice surname is Smith\n",
      "Session 1: Session committed...\n"
     ]
    }
   ],
   "source": [
    "await setup()\n",
    "_ = await asyncio.gather(\n",
    "    session1(isolation_level=IsolationLevels.REPEATABLE_READ),\n",
    "    session2(isolation_level=IsolationLevels.REPEATABLE_READ),\n",
    "    )"
   ]
  },
  {
   "cell_type": "markdown",
   "id": "f3ca2e51",
   "metadata": {},
   "source": [
    "## 4. Serializable\n",
    "\n",
    "Full isolation, PostgreSQL will abort one of the transactions if a conflict is detected. Can say that it same as `REPEATABLE READ`, but with extra checks for serialization safety. A serialization failure (`SQLSTATE 40001`) in PostgreSQL typically occurs only when there's a potential `write-write` or `read-write` conflict that can't be resolved while preserving the illusion of serial execution."
   ]
  },
  {
   "cell_type": "code",
   "execution_count": null,
   "id": "ad2bc49e",
   "metadata": {},
   "outputs": [
    {
     "name": "stdout",
     "output_type": "stream",
     "text": [
      "Session 1: Alice surname is Smith\n",
      "Session 2: Alice surname was updated to 'Doe'...\n",
      "Session 2: Session committed...\n",
      "Session 1: Alice surname is Smith\n",
      "Session 1: Session committed...\n"
     ]
    }
   ],
   "source": [
    "# TODO: rewrite sessions in such way to produce serialization failure\n",
    "\n",
    "await setup()\n",
    "_ = await asyncio.gather(\n",
    "    session1(isolation_level=IsolationLevels.SERIALIZABLE),\n",
    "    session2(isolation_level=IsolationLevels.SERIALIZABLE),\n",
    "    )"
   ]
  },
  {
   "cell_type": "markdown",
   "id": "333ab75f",
   "metadata": {},
   "source": [
    "| Isolation level      | Dirty Reads | Non-Repeatable Reads | Phantom Reads                  |\n",
    "| -------------------- | ----------- | -------------------- | ------------------------------ |\n",
    "| **READ UNCOMMITTED** | ✅         | ✅                   | ✅                            |\n",
    "| **READ COMMITTED**   | ❌         | ✅                   | ✅                            |\n",
    "| **REPEATABLE READ**  | ❌         | ❌                   | *(in SQL: ✅, in PostgreSQL: ❌)* |\n",
    "| **SERIALIZABLE**     | ❌         | ❌                   | ❌                            |\n"
   ]
  }
 ],
 "metadata": {
  "kernelspec": {
   "display_name": ".venv",
   "language": "python",
   "name": "python3"
  },
  "language_info": {
   "codemirror_mode": {
    "name": "ipython",
    "version": 3
   },
   "file_extension": ".py",
   "mimetype": "text/x-python",
   "name": "python",
   "nbconvert_exporter": "python",
   "pygments_lexer": "ipython3",
   "version": "3.13.1"
  }
 },
 "nbformat": 4,
 "nbformat_minor": 5
}
